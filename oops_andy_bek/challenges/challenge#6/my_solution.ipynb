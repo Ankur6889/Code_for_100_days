{
 "cells": [
  {
   "cell_type": "code",
   "execution_count": null,
   "metadata": {},
   "outputs": [],
   "source": [
    "class Tablet:\n",
    "    \n",
    "    allowed_models = ['lite', 'pro', 'max']\n",
    "    \n",
    "    def __init__(self,model):\n",
    "        self.model = model\n",
    "        \n",
    "    \n",
    "    @property\n",
    "    def model(self):\n",
    "        return self._model\n",
    "    \n",
    "    @model.setter\n",
    "    def model(self, value):\n",
    "        if value not in self.allowed_models:\n",
    "            raise ValueError(f\"Invalid model {value}\")\n",
    "        self._model = value\n",
    "        if self._model == 'lite':\n",
    "            self.base_storage = 32\n",
    "            self.memory = 1\n",
    "        elif self._model == 'pro':\n",
    "            self.base_storage = 64\n",
    "            self.memory = 2\n",
    "        elif self._model == 'max':\n",
    "            self.base_storage = 128\n",
    "            self.memory = 3\n",
    "            "
   ]
  }
 ],
 "metadata": {
  "language_info": {
   "name": "python"
  }
 },
 "nbformat": 4,
 "nbformat_minor": 2
}
