{
 "cells": [
  {
   "cell_type": "code",
   "execution_count": 23,
   "metadata": {},
   "outputs": [],
   "source": [
    "class DNABase:\n",
    "    \n",
    "    bases = ['adenine','cytosine','guanine','thymine']\n",
    "    \n",
    "    def __init__(self,nucleotide):\n",
    "        self.base = nucleotide\n",
    "    \n",
    "    @property \n",
    "    def base(self):\n",
    "        return self._base\n",
    "    \n",
    "    @base.setter\n",
    "    def base(self,nucleotide):\n",
    "        for base in self.bases:\n",
    "            print(base)\n",
    "            if nucleotide.lower().strip() == base or nucleotide.lower().strip() == base[0]:\n",
    "                self._base = base\n",
    "                break \n",
    "            else :\n",
    "                raise ValueError('Invalid nucleotide')\n",
    "\n",
    "    def __repr__(self):\n",
    "        return f'{self.__class__.__name__}({self.base})'"
   ]
  },
  {
   "cell_type": "code",
   "execution_count": null,
   "metadata": {},
   "outputs": [],
   "source": []
  },
  {
   "cell_type": "code",
   "execution_count": 24,
   "metadata": {},
   "outputs": [
    {
     "name": "stdout",
     "output_type": "stream",
     "text": [
      "adenine\n"
     ]
    }
   ],
   "source": [
    "x = DNABase('a')\n"
   ]
  },
  {
   "cell_type": "code",
   "execution_count": null,
   "metadata": {},
   "outputs": [],
   "source": []
  },
  {
   "cell_type": "code",
   "execution_count": null,
   "metadata": {},
   "outputs": [],
   "source": []
  }
 ],
 "metadata": {
  "kernelspec": {
   "display_name": "Python 3",
   "language": "python",
   "name": "python3"
  },
  "language_info": {
   "codemirror_mode": {
    "name": "ipython",
    "version": 3
   },
   "file_extension": ".py",
   "mimetype": "text/x-python",
   "name": "python",
   "nbconvert_exporter": "python",
   "pygments_lexer": "ipython3",
   "version": "3.10.12"
  }
 },
 "nbformat": 4,
 "nbformat_minor": 2
}
