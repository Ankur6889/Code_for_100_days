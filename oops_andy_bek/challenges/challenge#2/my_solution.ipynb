{
 "cells": [
  {
   "cell_type": "code",
   "execution_count": 30,
   "metadata": {},
   "outputs": [],
   "source": [
    "import string \n",
    "import random \n",
    "class Password:\n",
    "    \n",
    "    input_universe = {\n",
    "        \"letters\":list(string.ascii_letters),\n",
    "        \"numbers\":list(range(10)),\n",
    "        \"special_characters\":list(string.punctuation)\n",
    "    }\n",
    "    \n",
    "    password_length = {\n",
    "        \"low\":8,\n",
    "        \"mid\":12,\n",
    "        \"high\":16\n",
    "    }\n",
    "    \n",
    "    def __init__(self,strength = \"mid\",length = None):\n",
    "        self.strength = strength\n",
    "        self.length = length\n",
    "        self._generate()\n",
    "    \n",
    "    def _generate(self):\n",
    "                \n",
    "        if self.strength == \"low\":\n",
    "            bucket = self.input_universe[\"letters\"]\n",
    "        elif self.strength == \"mid\":\n",
    "            bucket = self.input_universe[\"letters\"]+self.input_universe[\"letters\"]\n",
    "        else:\n",
    "            bucket = self.input_universe[\"letters\"]+self.input_universe[\"letters\"]+self.input_universe[\"special_characters\"]    \n",
    "        \n",
    "        if self.length == None :\n",
    "            self.length = self.password_length[self.strength]\n",
    "        \n",
    "        self.generated_password = \"\"\n",
    "        for i in range(self.length):\n",
    "            self.generated_password = self.generated_password + random.choice(bucket)\n",
    "        \n",
    "        print(self.generated_password)\n",
    "        \n",
    "    @classmethod\n",
    "    def show_input_universe(cls):\n",
    "        print(cls.input_universe)\n",
    "            "
   ]
  },
  {
   "cell_type": "code",
   "execution_count": 31,
   "metadata": {},
   "outputs": [
    {
     "name": "stdout",
     "output_type": "stream",
     "text": [
      "llnjUJmE\n"
     ]
    }
   ],
   "source": [
    "p1 = Password(\"low\")"
   ]
  },
  {
   "cell_type": "code",
   "execution_count": 32,
   "metadata": {},
   "outputs": [
    {
     "name": "stdout",
     "output_type": "stream",
     "text": [
      "ZyaeaLKgPOAbhGXPryvGxPcbZUbKlxHtWxdnM\n"
     ]
    }
   ],
   "source": [
    "p2 = Password(\"mid\",37)"
   ]
  },
  {
   "cell_type": "code",
   "execution_count": 33,
   "metadata": {},
   "outputs": [
    {
     "name": "stdout",
     "output_type": "stream",
     "text": [
      "g/y.up}!DgKtmR{j\n"
     ]
    }
   ],
   "source": [
    "p3 = Password(\"high\")"
   ]
  },
  {
   "cell_type": "code",
   "execution_count": 34,
   "metadata": {},
   "outputs": [
    {
     "name": "stdout",
     "output_type": "stream",
     "text": [
      "tSHeHSOPXnXF\n"
     ]
    }
   ],
   "source": [
    "p4 = Password()"
   ]
  },
  {
   "cell_type": "code",
   "execution_count": 35,
   "metadata": {},
   "outputs": [
    {
     "data": {
      "text/plain": [
       "{'letters': ['a',\n",
       "  'b',\n",
       "  'c',\n",
       "  'd',\n",
       "  'e',\n",
       "  'f',\n",
       "  'g',\n",
       "  'h',\n",
       "  'i',\n",
       "  'j',\n",
       "  'k',\n",
       "  'l',\n",
       "  'm',\n",
       "  'n',\n",
       "  'o',\n",
       "  'p',\n",
       "  'q',\n",
       "  'r',\n",
       "  's',\n",
       "  't',\n",
       "  'u',\n",
       "  'v',\n",
       "  'w',\n",
       "  'x',\n",
       "  'y',\n",
       "  'z',\n",
       "  'A',\n",
       "  'B',\n",
       "  'C',\n",
       "  'D',\n",
       "  'E',\n",
       "  'F',\n",
       "  'G',\n",
       "  'H',\n",
       "  'I',\n",
       "  'J',\n",
       "  'K',\n",
       "  'L',\n",
       "  'M',\n",
       "  'N',\n",
       "  'O',\n",
       "  'P',\n",
       "  'Q',\n",
       "  'R',\n",
       "  'S',\n",
       "  'T',\n",
       "  'U',\n",
       "  'V',\n",
       "  'W',\n",
       "  'X',\n",
       "  'Y',\n",
       "  'Z'],\n",
       " 'numbers': [0, 1, 2, 3, 4, 5, 6, 7, 8, 9],\n",
       " 'special_characters': ['!',\n",
       "  '\"',\n",
       "  '#',\n",
       "  '$',\n",
       "  '%',\n",
       "  '&',\n",
       "  \"'\",\n",
       "  '(',\n",
       "  ')',\n",
       "  '*',\n",
       "  '+',\n",
       "  ',',\n",
       "  '-',\n",
       "  '.',\n",
       "  '/',\n",
       "  ':',\n",
       "  ';',\n",
       "  '<',\n",
       "  '=',\n",
       "  '>',\n",
       "  '?',\n",
       "  '@',\n",
       "  '[',\n",
       "  '\\\\',\n",
       "  ']',\n",
       "  '^',\n",
       "  '_',\n",
       "  '`',\n",
       "  '{',\n",
       "  '|',\n",
       "  '}',\n",
       "  '~']}"
      ]
     },
     "execution_count": 35,
     "metadata": {},
     "output_type": "execute_result"
    }
   ],
   "source": [
    "p1.input_universe"
   ]
  },
  {
   "cell_type": "code",
   "execution_count": null,
   "metadata": {},
   "outputs": [],
   "source": []
  }
 ],
 "metadata": {
  "kernelspec": {
   "display_name": "Python 3",
   "language": "python",
   "name": "python3"
  },
  "language_info": {
   "codemirror_mode": {
    "name": "ipython",
    "version": 3
   },
   "file_extension": ".py",
   "mimetype": "text/x-python",
   "name": "python",
   "nbconvert_exporter": "python",
   "pygments_lexer": "ipython3",
   "version": "3.10.12"
  }
 },
 "nbformat": 4,
 "nbformat_minor": 2
}
