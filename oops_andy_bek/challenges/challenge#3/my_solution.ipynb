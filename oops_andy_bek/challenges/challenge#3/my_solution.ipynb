{
 "cells": [
  {
   "cell_type": "code",
   "execution_count": 72,
   "metadata": {},
   "outputs": [
    {
     "name": "stdout",
     "output_type": "stream",
     "text": [
      "'TA'\n"
     ]
    },
    {
     "data": {
      "text/plain": [
       "Contact(\"An***\", \"Ti****\")"
      ]
     },
     "execution_count": 72,
     "metadata": {},
     "output_type": "execute_result"
    }
   ],
   "source": [
    "class Contact:\n",
    "    \n",
    "    def __init__(self,name,last_name,phone=None,email=None,display_mode = \"masked\"):\n",
    "        self.name = name \n",
    "        self.last_name = last_name\n",
    "        self.phone = phone \n",
    "        self.email = email \n",
    "        self.display_mode = display_mode\n",
    "        \n",
    "    def __eq__(self,other):\n",
    "        if not isinstance(other,Contact):\n",
    "            return False\n",
    "        if self.phone is not None and self.email is not None:\n",
    "            return self.name == other.name and self.last_name == other.last_name and self.phone == other.phone and self.email == other.email\n",
    "        else:\n",
    "            return self.name == other.name and self.last_name == other.last_name\n",
    "    \n",
    "    def __hash__(self):\n",
    "        return hash(self.name,self.last_name,self.phone,self.email)\n",
    "        \n",
    "    @staticmethod\n",
    "    def _obfuscate_data(data,obfucation_length=3):\n",
    "        return data[0:2]+\"*\"*len(data[2:])\n",
    "        \n",
    "    def __str__(self):\n",
    "        return f\"'{self.last_name[0]}{self.name[0]}'\"\n",
    "    \n",
    "    def __repr__(self):\n",
    "        if self.display_mode == \"masked\":\n",
    "            if self.phone is not None and self.email is not None:\n",
    "                return f'Contact(\"{Contact._obfuscate_data(self.name)}\", \"{Contact._obfuscate_data(self.last_name)}\", {Contact._obfuscate_data(self.phone)}, {Contact._obfuscate_data(self.email)})'\n",
    "            else:\n",
    "                return f'Contact(\"{Contact._obfuscate_data(self.name)}\", \"{Contact._obfuscate_data(self.last_name)}\")'\n",
    "        elif self.display_mode == \"full\":\n",
    "            return f'Contact(\"{self.name}\", \"{self.last_name}\", {self.phone}, {self.email})'\n",
    "\n",
    "c1 = Contact(\"Ankur\",\"Tiwari\",display_mode=\"full\")\n",
    "print(c1)\n",
    "eval(repr(c1)) "
   ]
  },
  {
   "cell_type": "code",
   "execution_count": 71,
   "metadata": {},
   "outputs": [],
   "source": [
    "c1 = Contact(\"Ankur\",\"Tiwari\",display_mode=\"full\")"
   ]
  },
  {
   "cell_type": "code",
   "execution_count": 66,
   "metadata": {},
   "outputs": [
    {
     "name": "stdout",
     "output_type": "stream",
     "text": [
      "'TA'\n"
     ]
    }
   ],
   "source": [
    "print(c1)"
   ]
  },
  {
   "cell_type": "code",
   "execution_count": 67,
   "metadata": {},
   "outputs": [
    {
     "data": {
      "text/plain": [
       "Contact(\"An***\", \"Ti****\")"
      ]
     },
     "execution_count": 67,
     "metadata": {},
     "output_type": "execute_result"
    }
   ],
   "source": [
    "eval(c1.__repr__())"
   ]
  },
  {
   "cell_type": "code",
   "execution_count": null,
   "metadata": {},
   "outputs": [],
   "source": []
  },
  {
   "cell_type": "code",
   "execution_count": null,
   "metadata": {},
   "outputs": [],
   "source": []
  }
 ],
 "metadata": {
  "kernelspec": {
   "display_name": "Python 3",
   "language": "python",
   "name": "python3"
  },
  "language_info": {
   "codemirror_mode": {
    "name": "ipython",
    "version": 3
   },
   "file_extension": ".py",
   "mimetype": "text/x-python",
   "name": "python",
   "nbconvert_exporter": "python",
   "pygments_lexer": "ipython3",
   "version": "3.12.3"
  }
 },
 "nbformat": 4,
 "nbformat_minor": 2
}
