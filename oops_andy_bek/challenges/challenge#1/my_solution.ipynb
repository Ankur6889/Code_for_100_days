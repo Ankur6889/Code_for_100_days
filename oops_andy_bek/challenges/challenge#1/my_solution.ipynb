{
 "cells": [
  {
   "cell_type": "code",
   "execution_count": 1,
   "metadata": {},
   "outputs": [],
   "source": [
    "import random \n",
    "\n",
    "class Student:\n",
    "\n",
    "    educational_platform = \"Udemy\"\n",
    "    greetings = [\n",
    "        \"Hi, I'm \",\n",
    "        \"Hey there , my name is \",\n",
    "        \"Hi. Oh, my name is ..\"\n",
    "    ]\n",
    "    def __init__(self,name ,age = 18):\n",
    "        self.name = name\n",
    "        self.age = age \n",
    "    \n",
    "    def greet(self):\n",
    "        greeting_message = random.choice(self.greetings)\n",
    "        print(f\"{greeting_message}{self.name}\")\n",
    "    \n",
    "    \n",
    "        \n",
    "    \n"
   ]
  },
  {
   "cell_type": "code",
   "execution_count": 2,
   "metadata": {},
   "outputs": [
    {
     "name": "stdout",
     "output_type": "stream",
     "text": [
      "Hi. Oh, my name is ..Ankur \n",
      "Hi, I'm Ankit\n",
      "Hi. Oh, my name is ..Soumya\n",
      "Hey there , my name is Sami\n",
      "Hi. Oh, my name is ..Harshal\n",
      "Hi, I'm Shreesh\n"
     ]
    }
   ],
   "source": [
    "names = [ \"Ankur \", \"Ankit\",\"Soumya\",\"Sami\",\"Harshal\",\"Shreesh\"]\n",
    "student_objects_list = []\n",
    "\n",
    "for i in names :\n",
    "    student_objects_list.append(Student(i))\n",
    "\n",
    "for i in student_objects_list:\n",
    "    i.greet()\n",
    "    \n",
    "    "
   ]
  },
  {
   "cell_type": "code",
   "execution_count": null,
   "metadata": {},
   "outputs": [],
   "source": []
  }
 ],
 "metadata": {
  "kernelspec": {
   "display_name": "Python 3",
   "language": "python",
   "name": "python3"
  },
  "language_info": {
   "codemirror_mode": {
    "name": "ipython",
    "version": 3
   },
   "file_extension": ".py",
   "mimetype": "text/x-python",
   "name": "python",
   "nbconvert_exporter": "python",
   "pygments_lexer": "ipython3",
   "version": "3.10.12"
  }
 },
 "nbformat": 4,
 "nbformat_minor": 2
}
